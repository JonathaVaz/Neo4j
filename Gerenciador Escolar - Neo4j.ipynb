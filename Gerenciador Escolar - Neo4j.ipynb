{
 "cells": [
  {
   "cell_type": "markdown",
   "metadata": {},
   "source": [
    "## ***Gerenciador Escolar - Neo4j***\n",
    "### **Neo4j**\n",
    "### **Jonatha Rodrigues T. Vaz**"
   ]
  },
  {
   "cell_type": "markdown",
   "metadata": {},
   "source": [
    "### **Importando Biblioteca Neo4j**"
   ]
  },
  {
   "cell_type": "code",
   "execution_count": null,
   "metadata": {},
   "outputs": [],
   "source": [
    "from neo4j import GraphDatabase"
   ]
  },
  {
   "cell_type": "markdown",
   "metadata": {},
   "source": [
    "### **Criando o Gerenciador Escolar**"
   ]
  },
  {
   "cell_type": "code",
   "execution_count": null,
   "metadata": {},
   "outputs": [],
   "source": [
    "class SchoolManagementSystem:\n",
    "    def __init__(self, uri, user, password):\n",
    "        self._driver = GraphDatabase.driver(uri, auth=(user, password))\n",
    "\n",
    "    def close(self):\n",
    "        self._driver.close()\n",
    "\n",
    "    def create_sample_data(self):\n",
    "        with self._driver.session() as session:\n",
    "            # Criar professores\n",
    "            session.run(\"CREATE (:Professor {name: 'Professor 1'})\")\n",
    "            session.run(\"CREATE (:Professor {name: 'Professor 2'})\")\n",
    "            print(\"Professores Criados!!\")\n",
    "\n",
    "            # Criar cursos\n",
    "            session.run(\"CREATE (:Curso {name: 'Curso 1'})\")\n",
    "            session.run(\"CREATE (:Curso {name: 'Curso 2'})\")\n",
    "            print(\"Professores Cursos!!\")\n",
    "\n",
    "            # Criar turmas\n",
    "            session.run(\"CREATE (:Turma {name: 'Turma 1'})\")\n",
    "            session.run(\"CREATE (:Turma {name: 'Turma 2'})\")\n",
    "            print(\"Professores Turma!!\")\n",
    "\n",
    "            # Criar alunos\n",
    "            session.run(\"CREATE (:Aluno {name: 'Aluno 1'})\")\n",
    "            session.run(\"CREATE (:Aluno {name: 'Aluno 2'})\")\n",
    "            print(\"Professores Aluno!!\")\n",
    "\n",
    "            # Criar relações entre professores e cursos\n",
    "            session.run(\"\"\"\n",
    "                MATCH (prof:Professor {name: 'Professor 1'})\n",
    "                MATCH (curso:Curso {name: 'Curso 1'})\n",
    "                CREATE (prof)-[:ENSINA]->(curso)\n",
    "            \"\"\")\n",
    "            print(\"Relações criadas primeira parte!!\")\n",
    "            session.run(\"\"\"\n",
    "                MATCH (prof:Professor {name: 'Professor 2'})\n",
    "                MATCH (curso:Curso {name: 'Curso 2'})\n",
    "                CREATE (prof)-[:ENSINA]->(curso)\n",
    "            \"\"\")\n",
    "            print(\"Relações criadas segunda parte!!\")\n",
    "\n",
    "            # Criar relações entre turmas e cursos\n",
    "            session.run(\"\"\"\n",
    "                MATCH (turma:Turma {name: 'Turma 1'})\n",
    "                MATCH (curso:Curso {name: 'Curso 1'})\n",
    "                CREATE (turma)-[:PERTENCE_A]->(curso)\n",
    "            \"\"\")\n",
    "            session.run(\"\"\"\n",
    "                MATCH (turma:Turma {name: 'Turma 2'})\n",
    "                MATCH (curso:Curso {name: 'Curso 2'})\n",
    "                CREATE (turma)-[:PERTENCE_A]->(curso)\n",
    "            \"\"\")\n",
    "\n",
    "            # Criar relações entre alunos e turmas\n",
    "            session.run(\"\"\"\n",
    "                MATCH (aluno:Aluno {name: 'Aluno 1'})\n",
    "                MATCH (turma:Turma {name: 'Turma 1'})\n",
    "                CREATE (aluno)-[:FAZ_PARTE]->(turma)\n",
    "            \"\"\")\n",
    "            session.run(\"\"\"\n",
    "                MATCH (aluno:Aluno {name: 'Aluno 2'})\n",
    "                MATCH (turma:Turma {name: 'Turma 2'})\n",
    "                CREATE (aluno)-[:FAZ_PARTE]->(turma)\n",
    "            \"\"\")\n",
    "\n",
    "if __name__ == \"__main__\":\n",
    "    uri = \"bolt://localhost:7687\"  # Altere para o URI do seu banco de dados Neo4j\n",
    "    user = \"neo4j\"  # Altere para o nome de usuário do seu banco de dados Neo4j\n",
    "    password = \"password\"  # Altere para a senha do seu banco de dados Neo4j\n",
    "\n",
    "    system = SchoolManagementSystem(uri, user, password)\n",
    "    system.create_sample_data()\n",
    "    system.close()"
   ]
  }
 ],
 "metadata": {
  "kernelspec": {
   "display_name": "base",
   "language": "python",
   "name": "python3"
  },
  "language_info": {
   "name": "python",
   "version": "3.9.13"
  }
 },
 "nbformat": 4,
 "nbformat_minor": 2
}
