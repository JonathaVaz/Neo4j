{
 "cells": [
  {
   "cell_type": "markdown",
   "metadata": {},
   "source": [
    "## ***Manipulando Dados no Neo4j***\n",
    "### **Neo4j**\n",
    "### **Jonatha Rodrigues T. Vaz**"
   ]
  },
  {
   "cell_type": "markdown",
   "metadata": {},
   "source": [
    "### **Importando a Biblioteca**"
   ]
  },
  {
   "cell_type": "code",
   "execution_count": null,
   "metadata": {},
   "outputs": [],
   "source": [
    "from neo4j import GraphDatabase"
   ]
  },
  {
   "cell_type": "markdown",
   "metadata": {},
   "source": [
    "### **Manipulações e Classes**"
   ]
  },
  {
   "cell_type": "code",
   "execution_count": null,
   "metadata": {},
   "outputs": [],
   "source": [
    "class Neo4jDataManipulation:\n",
    "    def __init__(self, uri, user, password):\n",
    "        self._driver = GraphDatabase.driver(uri, auth=(user, password))\n",
    "\n",
    "    def close(self):\n",
    "        self._driver.close()\n",
    "\n",
    "    def run_query(self, query):\n",
    "        with self._driver.session() as session:\n",
    "            result = session.run(query)\n",
    "            return result\n",
    "\n",
    "if __name__ == \"__main__\":\n",
    "    uri = \"bolt://localhost:7687\"  # Altere para o URI do seu banco de dados Neo4j\n",
    "    user = \"neo4j\"  # Altere para o nome de usuário do seu banco de dados Neo4j\n",
    "    password = \"password\"  # Altere para a senha do seu banco de dados Neo4j\n",
    "\n",
    "    data_manipulator = Neo4jDataManipulation(uri, user, password)\n",
    "\n",
    "    # Exemplo de consultas com a linguagem Cypher\n",
    "    queries = [\n",
    "        \"MATCH (p:Professor) RETURN p\",\n",
    "        \"MATCH (a:Aluno)-[:FAZ_PARTE]->(t:Turma) RETURN a, t\",\n",
    "        \"MATCH (prof:Professor)-[:ENSINA]->(curso:Curso)<-[:PERTENCE_A]-(turma:Turma) RETURN prof, curso, turma\"\n",
    "    ]\n",
    "\n",
    "    for query in queries:\n",
    "        print(f\"Running query: {query}\")\n",
    "        result = data_manipulator.run_query(query)\n",
    "        for record in result:\n",
    "            print(record)"
   ]
  },
  {
   "cell_type": "markdown",
   "metadata": {},
   "source": [
    "### **Fechando a Manipulação**"
   ]
  },
  {
   "cell_type": "code",
   "execution_count": null,
   "metadata": {},
   "outputs": [],
   "source": [
    "data_manipulator.close()"
   ]
  }
 ],
 "metadata": {
  "kernelspec": {
   "display_name": "base",
   "language": "python",
   "name": "python3"
  },
  "language_info": {
   "name": "python",
   "version": "3.9.13"
  }
 },
 "nbformat": 4,
 "nbformat_minor": 2
}
