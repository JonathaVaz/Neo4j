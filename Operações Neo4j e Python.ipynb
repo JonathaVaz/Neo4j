{
 "cells": [
  {
   "cell_type": "markdown",
   "metadata": {},
   "source": [
    "## ***Operações Neo4j - Python***\n",
    "## **Neo4j - Python**\n",
    "### **Jonatha Rodrigues T. Vaz**"
   ]
  },
  {
   "cell_type": "markdown",
   "metadata": {},
   "source": [
    "### **Iniciando Operações**"
   ]
  },
  {
   "cell_type": "code",
   "execution_count": null,
   "metadata": {},
   "outputs": [],
   "source": [
    "def update_student_name(driver, student_id, new_name):\n",
    "    with driver.session() as session:\n",
    "        session.run(\n",
    "            \"MATCH (s:Aluno) WHERE id(s) = $student_id SET s.name = $new_name\",\n",
    "            student_id=student_id,\n",
    "            new_name=new_name\n",
    "        )\n",
    "\n",
    "\n",
    "def add_property_to_node(driver, node_id, property_name, property_value):\n",
    "    with driver.session() as session:\n",
    "        session.run(\n",
    "            \"MATCH (n) WHERE id(n) = $node_id SET n[$property_name] = $property_value\",\n",
    "            node_id=node_id,\n",
    "            property_name=property_name,\n",
    "            property_value=property_value\n",
    "        )\n",
    "\n",
    "\n",
    "def delete_node(driver, node_id):\n",
    "    with driver.session() as session:\n",
    "        session.run(\n",
    "            \"MATCH (n) WHERE id(n) = $node_id DETACH DELETE n\",\n",
    "            node_id=node_id\n",
    "        )\n",
    "\n",
    "\n",
    "def delete_all_nodes_of_type(driver, node_label):\n",
    "    with driver.session() as session:\n",
    "        session.run(\n",
    "            \"MATCH (n:{}) DETACH DELETE n\".format(node_label)\n",
    "        )"
   ]
  },
  {
   "cell_type": "markdown",
   "metadata": {},
   "source": [
    "### **Importando a Biblioteca Neo4j**"
   ]
  },
  {
   "cell_type": "code",
   "execution_count": null,
   "metadata": {},
   "outputs": [],
   "source": [
    "from neo4j import GraphDatabase"
   ]
  },
  {
   "cell_type": "markdown",
   "metadata": {},
   "source": [
    "### **Dados de Conexão**"
   ]
  },
  {
   "cell_type": "code",
   "execution_count": null,
   "metadata": {},
   "outputs": [],
   "source": [
    "uri = \"bolt://localhost:7687\"\n",
    "username = \"neo4j\"\n",
    "password = \"password\"\n",
    "\n",
    "driver = GraphDatabase.driver(uri, auth=(username, password))"
   ]
  },
  {
   "cell_type": "markdown",
   "metadata": {},
   "source": [
    "### **Operações**"
   ]
  },
  {
   "cell_type": "code",
   "execution_count": null,
   "metadata": {},
   "outputs": [],
   "source": [
    "# Exemplo de atualização de dados\n",
    "update_student_name(driver, 123, \"Novo Nome\")\n",
    "\n",
    "# Exemplo de adição de propriedade\n",
    "add_property_to_node(driver, 456, \"nova_propriedade\", \"valor\")\n",
    "\n",
    "# Exemplo de exclusão de nó\n",
    "delete_node(driver, 789)\n",
    "\n",
    "# Exemplo de exclusão de todos os nós de um tipo\n",
    "delete_all_nodes_of_type(driver, \"Aluno\")"
   ]
  },
  {
   "cell_type": "markdown",
   "metadata": {},
   "source": [
    "### **Fechando Conexão**"
   ]
  },
  {
   "cell_type": "code",
   "execution_count": null,
   "metadata": {},
   "outputs": [],
   "source": [
    "driver.close()"
   ]
  }
 ],
 "metadata": {
  "kernelspec": {
   "display_name": "base",
   "language": "python",
   "name": "python3"
  },
  "language_info": {
   "name": "python",
   "version": "3.9.13"
  }
 },
 "nbformat": 4,
 "nbformat_minor": 2
}
